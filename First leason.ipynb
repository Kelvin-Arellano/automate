{
 "cells": [
  {
   "cell_type": "code",
   "execution_count": 1,
   "id": "graphic-railway",
   "metadata": {
    "ExecuteTime": {
     "end_time": "2021-09-14T01:21:50.984225Z",
     "start_time": "2021-09-14T01:21:50.956620Z"
    }
   },
   "outputs": [
    {
     "data": {
      "text/plain": [
       "4"
      ]
     },
     "execution_count": 1,
     "metadata": {},
     "output_type": "execute_result"
    }
   ],
   "source": [
    "2+2\n"
   ]
  },
  {
   "cell_type": "code",
   "execution_count": 2,
   "id": "relative-young",
   "metadata": {
    "ExecuteTime": {
     "end_time": "2021-09-14T01:22:01.809960Z",
     "start_time": "2021-09-14T01:22:01.803409Z"
    }
   },
   "outputs": [
    {
     "data": {
      "text/plain": [
       "2"
      ]
     },
     "execution_count": 2,
     "metadata": {},
     "output_type": "execute_result"
    }
   ],
   "source": [
    "5-3"
   ]
  },
  {
   "cell_type": "code",
   "execution_count": 3,
   "id": "simple-lodging",
   "metadata": {
    "ExecuteTime": {
     "end_time": "2021-09-14T01:22:07.960271Z",
     "start_time": "2021-09-14T01:22:07.951494Z"
    }
   },
   "outputs": [
    {
     "data": {
      "text/plain": [
       "21"
      ]
     },
     "execution_count": 3,
     "metadata": {},
     "output_type": "execute_result"
    }
   ],
   "source": [
    "3*7\n"
   ]
  },
  {
   "cell_type": "code",
   "execution_count": 4,
   "id": "novel-enlargement",
   "metadata": {
    "ExecuteTime": {
     "end_time": "2021-09-14T01:22:16.276436Z",
     "start_time": "2021-09-14T01:22:16.262225Z"
    }
   },
   "outputs": [
    {
     "data": {
      "text/plain": [
       "3.142857142857143"
      ]
     },
     "execution_count": 4,
     "metadata": {},
     "output_type": "execute_result"
    }
   ],
   "source": [
    "22/7"
   ]
  },
  {
   "cell_type": "code",
   "execution_count": 5,
   "id": "moral-segment",
   "metadata": {
    "ExecuteTime": {
     "end_time": "2021-09-14T01:22:41.122202Z",
     "start_time": "2021-09-14T01:22:41.114182Z"
    }
   },
   "outputs": [
    {
     "data": {
      "text/plain": [
       "20"
      ]
     },
     "execution_count": 5,
     "metadata": {},
     "output_type": "execute_result"
    }
   ],
   "source": [
    "2+3*6"
   ]
  },
  {
   "cell_type": "code",
   "execution_count": 6,
   "id": "future-employer",
   "metadata": {
    "ExecuteTime": {
     "end_time": "2021-09-14T01:22:51.651788Z",
     "start_time": "2021-09-14T01:22:51.643507Z"
    }
   },
   "outputs": [
    {
     "data": {
      "text/plain": [
       "30"
      ]
     },
     "execution_count": 6,
     "metadata": {},
     "output_type": "execute_result"
    }
   ],
   "source": [
    "(2+3)*6"
   ]
  },
  {
   "cell_type": "code",
   "execution_count": 7,
   "id": "delayed-basket",
   "metadata": {
    "ExecuteTime": {
     "end_time": "2021-09-14T01:24:09.430173Z",
     "start_time": "2021-09-14T01:24:09.422190Z"
    }
   },
   "outputs": [
    {
     "data": {
      "text/plain": [
       "16.0"
      ]
     },
     "execution_count": 7,
     "metadata": {},
     "output_type": "execute_result"
    }
   ],
   "source": [
    "(5-1)*((7+1)/(3-1))"
   ]
  },
  {
   "cell_type": "code",
   "execution_count": 8,
   "id": "loose-petersburg",
   "metadata": {
    "ExecuteTime": {
     "end_time": "2021-09-14T01:24:45.905419Z",
     "start_time": "2021-09-14T01:24:45.892173Z"
    }
   },
   "outputs": [
    {
     "ename": "SyntaxError",
     "evalue": "invalid syntax (<ipython-input-8-7fd34a819fa2>, line 1)",
     "output_type": "error",
     "traceback": [
      "\u001b[0;36m  File \u001b[0;32m\"<ipython-input-8-7fd34a819fa2>\"\u001b[0;36m, line \u001b[0;32m1\u001b[0m\n\u001b[0;31m    5+\u001b[0m\n\u001b[0m      ^\u001b[0m\n\u001b[0;31mSyntaxError\u001b[0m\u001b[0;31m:\u001b[0m invalid syntax\n"
     ]
    }
   ],
   "source": [
    "5+"
   ]
  },
  {
   "cell_type": "code",
   "execution_count": 9,
   "id": "guided-tuesday",
   "metadata": {
    "ExecuteTime": {
     "end_time": "2021-09-14T01:25:59.013176Z",
     "start_time": "2021-09-14T01:25:59.006253Z"
    }
   },
   "outputs": [
    {
     "data": {
      "text/plain": [
       "'AliceBob'"
      ]
     },
     "execution_count": 9,
     "metadata": {},
     "output_type": "execute_result"
    }
   ],
   "source": [
    "'Alice'+'Bob'"
   ]
  },
  {
   "cell_type": "code",
   "execution_count": 10,
   "id": "comprehensive-headset",
   "metadata": {
    "ExecuteTime": {
     "end_time": "2021-09-14T01:26:07.383483Z",
     "start_time": "2021-09-14T01:26:07.357382Z"
    }
   },
   "outputs": [
    {
     "data": {
      "text/plain": [
       "'AliceAliceAlice'"
      ]
     },
     "execution_count": 10,
     "metadata": {},
     "output_type": "execute_result"
    }
   ],
   "source": [
    "'Alice'*3"
   ]
  },
  {
   "cell_type": "code",
   "execution_count": 11,
   "id": "indoor-gregory",
   "metadata": {
    "ExecuteTime": {
     "end_time": "2021-09-14T01:26:46.913317Z",
     "start_time": "2021-09-14T01:26:46.905088Z"
    }
   },
   "outputs": [
    {
     "data": {
      "text/plain": [
       "'Hello!!!!!!!!!!'"
      ]
     },
     "execution_count": 11,
     "metadata": {},
     "output_type": "execute_result"
    }
   ],
   "source": [
    "'Hello'+'!'*10"
   ]
  },
  {
   "cell_type": "code",
   "execution_count": 12,
   "id": "compound-doubt",
   "metadata": {
    "ExecuteTime": {
     "end_time": "2021-09-14T01:27:10.546285Z",
     "start_time": "2021-09-14T01:27:10.539389Z"
    }
   },
   "outputs": [],
   "source": [
    "spam=42"
   ]
  },
  {
   "cell_type": "code",
   "execution_count": 13,
   "id": "national-minute",
   "metadata": {
    "ExecuteTime": {
     "end_time": "2021-09-14T01:27:37.280439Z",
     "start_time": "2021-09-14T01:27:37.269583Z"
    }
   },
   "outputs": [
    {
     "data": {
      "text/plain": [
       "42"
      ]
     },
     "execution_count": 13,
     "metadata": {},
     "output_type": "execute_result"
    }
   ],
   "source": [
    "spam"
   ]
  },
  {
   "cell_type": "code",
   "execution_count": 14,
   "id": "laughing-bosnia",
   "metadata": {
    "ExecuteTime": {
     "end_time": "2021-09-14T01:27:45.622844Z",
     "start_time": "2021-09-14T01:27:45.618018Z"
    }
   },
   "outputs": [],
   "source": [
    "spam='hello'"
   ]
  },
  {
   "cell_type": "code",
   "execution_count": 15,
   "id": "recovered-overall",
   "metadata": {
    "ExecuteTime": {
     "end_time": "2021-09-14T01:27:53.881686Z",
     "start_time": "2021-09-14T01:27:53.871316Z"
    }
   },
   "outputs": [
    {
     "data": {
      "text/plain": [
       "'hello world'"
      ]
     },
     "execution_count": 15,
     "metadata": {},
     "output_type": "execute_result"
    }
   ],
   "source": [
    "spam+' world'"
   ]
  },
  {
   "cell_type": "code",
   "execution_count": 16,
   "id": "royal-clinton",
   "metadata": {
    "ExecuteTime": {
     "end_time": "2021-09-14T01:28:06.326655Z",
     "start_time": "2021-09-14T01:28:06.321045Z"
    }
   },
   "outputs": [],
   "source": [
    "spam='goodbye'"
   ]
  },
  {
   "cell_type": "code",
   "execution_count": 17,
   "id": "ecological-consent",
   "metadata": {
    "ExecuteTime": {
     "end_time": "2021-09-14T01:28:11.032627Z",
     "start_time": "2021-09-14T01:28:11.021108Z"
    }
   },
   "outputs": [
    {
     "data": {
      "text/plain": [
       "'goodbye'"
      ]
     },
     "execution_count": 17,
     "metadata": {},
     "output_type": "execute_result"
    }
   ],
   "source": [
    "spam"
   ]
  },
  {
   "cell_type": "code",
   "execution_count": 20,
   "id": "referenced-lotus",
   "metadata": {
    "ExecuteTime": {
     "end_time": "2021-09-14T01:28:41.462242Z",
     "start_time": "2021-09-14T01:28:41.454426Z"
    }
   },
   "outputs": [
    {
     "data": {
      "text/plain": [
       "4"
      ]
     },
     "execution_count": 20,
     "metadata": {},
     "output_type": "execute_result"
    }
   ],
   "source": [
    "spam = 2+2\n",
    "spam"
   ]
  },
  {
   "cell_type": "code",
   "execution_count": 21,
   "id": "dynamic-holmes",
   "metadata": {
    "ExecuteTime": {
     "end_time": "2021-09-14T01:29:12.669260Z",
     "start_time": "2021-09-14T01:29:12.661674Z"
    }
   },
   "outputs": [
    {
     "data": {
      "text/plain": [
       "11"
      ]
     },
     "execution_count": 21,
     "metadata": {},
     "output_type": "execute_result"
    }
   ],
   "source": [
    "spam = 10\n",
    "spam = spam +1\n",
    "spam"
   ]
  },
  {
   "cell_type": "code",
   "execution_count": 22,
   "id": "complimentary-tobago",
   "metadata": {
    "ExecuteTime": {
     "end_time": "2021-09-14T01:30:11.151288Z",
     "start_time": "2021-09-14T01:30:11.146037Z"
    }
   },
   "outputs": [],
   "source": [
    "###This part of the leason creates a program that says hello and ask for a name"
   ]
  },
  {
   "cell_type": "code",
   "execution_count": 35,
   "id": "greenhouse-settlement",
   "metadata": {
    "ExecuteTime": {
     "end_time": "2021-09-14T01:42:42.900007Z",
     "start_time": "2021-09-14T01:42:38.302272Z"
    }
   },
   "outputs": [
    {
     "name": "stdout",
     "output_type": "stream",
     "text": [
      "Hello world!\n",
      "What is your name?\n",
      "k\n",
      "It is good to meet you, k\n",
      "The length of your name is: \n",
      "1\n",
      "What is your age?\n",
      "13\n",
      "You will be 14 in a year.\n"
     ]
    }
   ],
   "source": [
    "print(\"Hello world!\")\n",
    "print('What is your name?')#ask for their name\n",
    "myName=input()\n",
    "print('It is good to meet you, '+myName)\n",
    "print('The length of your name is: ')\n",
    "print(len(myName))\n",
    "\n",
    "\n",
    "print('What is your age?')#ask for their age\n",
    "myAge = input()\n",
    "print('You will be ' + str(int(myAge)+1) +' in a year.')\n"
   ]
  },
  {
   "cell_type": "code",
   "execution_count": 36,
   "id": "ceramic-signal",
   "metadata": {
    "ExecuteTime": {
     "end_time": "2021-09-14T02:24:53.187134Z",
     "start_time": "2021-09-14T02:24:53.177371Z"
    }
   },
   "outputs": [],
   "source": [
    "## This will introduce boolean operators and comparison operators"
   ]
  },
  {
   "cell_type": "code",
   "execution_count": 37,
   "id": "loose-truth",
   "metadata": {
    "ExecuteTime": {
     "end_time": "2021-09-14T02:26:02.707377Z",
     "start_time": "2021-09-14T02:26:02.697111Z"
    }
   },
   "outputs": [
    {
     "data": {
      "text/plain": [
       "False"
      ]
     },
     "execution_count": 37,
     "metadata": {},
     "output_type": "execute_result"
    }
   ],
   "source": [
    "42 == 41"
   ]
  },
  {
   "cell_type": "code",
   "execution_count": 38,
   "id": "objective-champagne",
   "metadata": {
    "ExecuteTime": {
     "end_time": "2021-09-14T02:26:14.712988Z",
     "start_time": "2021-09-14T02:26:14.703632Z"
    }
   },
   "outputs": [
    {
     "data": {
      "text/plain": [
       "False"
      ]
     },
     "execution_count": 38,
     "metadata": {},
     "output_type": "execute_result"
    }
   ],
   "source": [
    "42 == 'Hello'"
   ]
  },
  {
   "cell_type": "code",
   "execution_count": 39,
   "id": "demonstrated-authentication",
   "metadata": {
    "ExecuteTime": {
     "end_time": "2021-09-14T02:26:28.656745Z",
     "start_time": "2021-09-14T02:26:28.594536Z"
    }
   },
   "outputs": [
    {
     "data": {
      "text/plain": [
       "True"
      ]
     },
     "execution_count": 39,
     "metadata": {},
     "output_type": "execute_result"
    }
   ],
   "source": [
    "42==42"
   ]
  },
  {
   "cell_type": "code",
   "execution_count": 40,
   "id": "adopted-massage",
   "metadata": {
    "ExecuteTime": {
     "end_time": "2021-09-14T02:26:32.546204Z",
     "start_time": "2021-09-14T02:26:32.534978Z"
    }
   },
   "outputs": [
    {
     "data": {
      "text/plain": [
       "True"
      ]
     },
     "execution_count": 40,
     "metadata": {},
     "output_type": "execute_result"
    }
   ],
   "source": [
    "3!=2"
   ]
  },
  {
   "cell_type": "code",
   "execution_count": 41,
   "id": "polish-funds",
   "metadata": {
    "ExecuteTime": {
     "end_time": "2021-09-14T02:26:41.052973Z",
     "start_time": "2021-09-14T02:26:41.042874Z"
    }
   },
   "outputs": [
    {
     "data": {
      "text/plain": [
       "True"
      ]
     },
     "execution_count": 41,
     "metadata": {},
     "output_type": "execute_result"
    }
   ],
   "source": [
    "42 < 100"
   ]
  },
  {
   "cell_type": "code",
   "execution_count": 42,
   "id": "respected-milan",
   "metadata": {
    "ExecuteTime": {
     "end_time": "2021-09-14T02:26:53.557500Z",
     "start_time": "2021-09-14T02:26:53.549584Z"
    }
   },
   "outputs": [
    {
     "data": {
      "text/plain": [
       "False"
      ]
     },
     "execution_count": 42,
     "metadata": {},
     "output_type": "execute_result"
    }
   ],
   "source": [
    "42<42"
   ]
  },
  {
   "cell_type": "code",
   "execution_count": 43,
   "id": "homeless-boundary",
   "metadata": {
    "ExecuteTime": {
     "end_time": "2021-09-14T02:26:58.129303Z",
     "start_time": "2021-09-14T02:26:58.116288Z"
    }
   },
   "outputs": [
    {
     "data": {
      "text/plain": [
       "True"
      ]
     },
     "execution_count": 43,
     "metadata": {},
     "output_type": "execute_result"
    }
   ],
   "source": [
    "42<= 42"
   ]
  },
  {
   "cell_type": "code",
   "execution_count": 45,
   "id": "happy-triple",
   "metadata": {
    "ExecuteTime": {
     "end_time": "2021-09-14T02:27:34.454967Z",
     "start_time": "2021-09-14T02:27:34.445899Z"
    }
   },
   "outputs": [
    {
     "data": {
      "text/plain": [
       "False"
      ]
     },
     "execution_count": 45,
     "metadata": {},
     "output_type": "execute_result"
    }
   ],
   "source": [
    "int(myAge) > 14"
   ]
  },
  {
   "cell_type": "code",
   "execution_count": 46,
   "id": "joined-printing",
   "metadata": {
    "ExecuteTime": {
     "end_time": "2021-09-14T02:28:40.601228Z",
     "start_time": "2021-09-14T02:28:40.592342Z"
    }
   },
   "outputs": [
    {
     "data": {
      "text/plain": [
       "True"
      ]
     },
     "execution_count": 46,
     "metadata": {},
     "output_type": "execute_result"
    }
   ],
   "source": [
    "True and True"
   ]
  },
  {
   "cell_type": "code",
   "execution_count": 47,
   "id": "alternative-binary",
   "metadata": {
    "ExecuteTime": {
     "end_time": "2021-09-14T02:28:50.873636Z",
     "start_time": "2021-09-14T02:28:50.866557Z"
    }
   },
   "outputs": [
    {
     "data": {
      "text/plain": [
       "False"
      ]
     },
     "execution_count": 47,
     "metadata": {},
     "output_type": "execute_result"
    }
   ],
   "source": [
    "True and False"
   ]
  },
  {
   "cell_type": "code",
   "execution_count": 48,
   "id": "endless-combination",
   "metadata": {
    "ExecuteTime": {
     "end_time": "2021-09-14T02:29:16.950671Z",
     "start_time": "2021-09-14T02:29:16.943951Z"
    }
   },
   "outputs": [
    {
     "data": {
      "text/plain": [
       "False"
      ]
     },
     "execution_count": 48,
     "metadata": {},
     "output_type": "execute_result"
    }
   ],
   "source": [
    "False and False"
   ]
  },
  {
   "cell_type": "code",
   "execution_count": 49,
   "id": "based-suite",
   "metadata": {
    "ExecuteTime": {
     "end_time": "2021-09-14T02:29:32.523007Z",
     "start_time": "2021-09-14T02:29:32.516571Z"
    }
   },
   "outputs": [
    {
     "data": {
      "text/plain": [
       "True"
      ]
     },
     "execution_count": 49,
     "metadata": {},
     "output_type": "execute_result"
    }
   ],
   "source": [
    "True or True"
   ]
  },
  {
   "cell_type": "code",
   "execution_count": 50,
   "id": "compressed-paint",
   "metadata": {
    "ExecuteTime": {
     "end_time": "2021-09-14T02:29:38.395620Z",
     "start_time": "2021-09-14T02:29:38.388541Z"
    }
   },
   "outputs": [
    {
     "data": {
      "text/plain": [
       "True"
      ]
     },
     "execution_count": 50,
     "metadata": {},
     "output_type": "execute_result"
    }
   ],
   "source": [
    "True or False"
   ]
  },
  {
   "cell_type": "code",
   "execution_count": 51,
   "id": "bibliographic-knitting",
   "metadata": {
    "ExecuteTime": {
     "end_time": "2021-09-14T02:29:47.564646Z",
     "start_time": "2021-09-14T02:29:47.556459Z"
    }
   },
   "outputs": [
    {
     "data": {
      "text/plain": [
       "False"
      ]
     },
     "execution_count": 51,
     "metadata": {},
     "output_type": "execute_result"
    }
   ],
   "source": [
    "False or False"
   ]
  },
  {
   "cell_type": "code",
   "execution_count": 52,
   "id": "communist-watershed",
   "metadata": {
    "ExecuteTime": {
     "end_time": "2021-09-14T02:30:01.695329Z",
     "start_time": "2021-09-14T02:30:01.688071Z"
    }
   },
   "outputs": [
    {
     "data": {
      "text/plain": [
       "False"
      ]
     },
     "execution_count": 52,
     "metadata": {},
     "output_type": "execute_result"
    }
   ],
   "source": [
    "not True"
   ]
  },
  {
   "cell_type": "code",
   "execution_count": 53,
   "id": "loaded-train",
   "metadata": {
    "ExecuteTime": {
     "end_time": "2021-09-14T02:30:05.220815Z",
     "start_time": "2021-09-14T02:30:05.211867Z"
    }
   },
   "outputs": [
    {
     "data": {
      "text/plain": [
       "True"
      ]
     },
     "execution_count": 53,
     "metadata": {},
     "output_type": "execute_result"
    }
   ],
   "source": [
    "not False"
   ]
  },
  {
   "cell_type": "code",
   "execution_count": 54,
   "id": "statistical-indication",
   "metadata": {
    "ExecuteTime": {
     "end_time": "2021-09-14T02:33:34.948295Z",
     "start_time": "2021-09-14T02:33:34.940066Z"
    }
   },
   "outputs": [
    {
     "name": "stdout",
     "output_type": "stream",
     "text": [
      "Hi Alice\n",
      "Done\n"
     ]
    }
   ],
   "source": [
    "name = 'Alice'\n",
    "if name == 'Alice':\n",
    "    print('Hi Alice')\n",
    "print ('Done')"
   ]
  },
  {
   "cell_type": "code",
   "execution_count": null,
   "id": "biological-walnut",
   "metadata": {},
   "outputs": [],
   "source": []
  }
 ],
 "metadata": {
  "kernelspec": {
   "display_name": "learn-env",
   "language": "python",
   "name": "learn-env"
  },
  "language_info": {
   "codemirror_mode": {
    "name": "ipython",
    "version": 3
   },
   "file_extension": ".py",
   "mimetype": "text/x-python",
   "name": "python",
   "nbconvert_exporter": "python",
   "pygments_lexer": "ipython3",
   "version": "3.6.13"
  },
  "toc": {
   "base_numbering": 1,
   "nav_menu": {},
   "number_sections": true,
   "sideBar": true,
   "skip_h1_title": false,
   "title_cell": "Table of Contents",
   "title_sidebar": "Contents",
   "toc_cell": false,
   "toc_position": {},
   "toc_section_display": true,
   "toc_window_display": false
  }
 },
 "nbformat": 4,
 "nbformat_minor": 5
}
