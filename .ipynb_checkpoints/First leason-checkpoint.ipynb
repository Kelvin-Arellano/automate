{
 "cells": [
  {
   "cell_type": "code",
   "execution_count": 1,
   "id": "signal-patrol",
   "metadata": {
    "ExecuteTime": {
     "end_time": "2021-09-14T01:21:50.984225Z",
     "start_time": "2021-09-14T01:21:50.956620Z"
    }
   },
   "outputs": [
    {
     "data": {
      "text/plain": [
       "4"
      ]
     },
     "execution_count": 1,
     "metadata": {},
     "output_type": "execute_result"
    }
   ],
   "source": [
    "2+2\n"
   ]
  },
  {
   "cell_type": "code",
   "execution_count": 2,
   "id": "friendly-conspiracy",
   "metadata": {
    "ExecuteTime": {
     "end_time": "2021-09-14T01:22:01.809960Z",
     "start_time": "2021-09-14T01:22:01.803409Z"
    }
   },
   "outputs": [
    {
     "data": {
      "text/plain": [
       "2"
      ]
     },
     "execution_count": 2,
     "metadata": {},
     "output_type": "execute_result"
    }
   ],
   "source": [
    "5-3"
   ]
  },
  {
   "cell_type": "code",
   "execution_count": 3,
   "id": "numeric-dollar",
   "metadata": {
    "ExecuteTime": {
     "end_time": "2021-09-14T01:22:07.960271Z",
     "start_time": "2021-09-14T01:22:07.951494Z"
    }
   },
   "outputs": [
    {
     "data": {
      "text/plain": [
       "21"
      ]
     },
     "execution_count": 3,
     "metadata": {},
     "output_type": "execute_result"
    }
   ],
   "source": [
    "3*7\n"
   ]
  },
  {
   "cell_type": "code",
   "execution_count": 4,
   "id": "joined-playback",
   "metadata": {
    "ExecuteTime": {
     "end_time": "2021-09-14T01:22:16.276436Z",
     "start_time": "2021-09-14T01:22:16.262225Z"
    }
   },
   "outputs": [
    {
     "data": {
      "text/plain": [
       "3.142857142857143"
      ]
     },
     "execution_count": 4,
     "metadata": {},
     "output_type": "execute_result"
    }
   ],
   "source": [
    "22/7"
   ]
  },
  {
   "cell_type": "code",
   "execution_count": 5,
   "id": "essential-mystery",
   "metadata": {
    "ExecuteTime": {
     "end_time": "2021-09-14T01:22:41.122202Z",
     "start_time": "2021-09-14T01:22:41.114182Z"
    }
   },
   "outputs": [
    {
     "data": {
      "text/plain": [
       "20"
      ]
     },
     "execution_count": 5,
     "metadata": {},
     "output_type": "execute_result"
    }
   ],
   "source": [
    "2+3*6"
   ]
  },
  {
   "cell_type": "code",
   "execution_count": 6,
   "id": "subtle-batch",
   "metadata": {
    "ExecuteTime": {
     "end_time": "2021-09-14T01:22:51.651788Z",
     "start_time": "2021-09-14T01:22:51.643507Z"
    }
   },
   "outputs": [
    {
     "data": {
      "text/plain": [
       "30"
      ]
     },
     "execution_count": 6,
     "metadata": {},
     "output_type": "execute_result"
    }
   ],
   "source": [
    "(2+3)*6"
   ]
  },
  {
   "cell_type": "code",
   "execution_count": 7,
   "id": "removable-memory",
   "metadata": {
    "ExecuteTime": {
     "end_time": "2021-09-14T01:24:09.430173Z",
     "start_time": "2021-09-14T01:24:09.422190Z"
    }
   },
   "outputs": [
    {
     "data": {
      "text/plain": [
       "16.0"
      ]
     },
     "execution_count": 7,
     "metadata": {},
     "output_type": "execute_result"
    }
   ],
   "source": [
    "(5-1)*((7+1)/(3-1))"
   ]
  },
  {
   "cell_type": "code",
   "execution_count": 8,
   "id": "civil-chocolate",
   "metadata": {
    "ExecuteTime": {
     "end_time": "2021-09-14T01:24:45.905419Z",
     "start_time": "2021-09-14T01:24:45.892173Z"
    }
   },
   "outputs": [
    {
     "ename": "SyntaxError",
     "evalue": "invalid syntax (<ipython-input-8-7fd34a819fa2>, line 1)",
     "output_type": "error",
     "traceback": [
      "\u001b[0;36m  File \u001b[0;32m\"<ipython-input-8-7fd34a819fa2>\"\u001b[0;36m, line \u001b[0;32m1\u001b[0m\n\u001b[0;31m    5+\u001b[0m\n\u001b[0m      ^\u001b[0m\n\u001b[0;31mSyntaxError\u001b[0m\u001b[0;31m:\u001b[0m invalid syntax\n"
     ]
    }
   ],
   "source": [
    "5+"
   ]
  },
  {
   "cell_type": "code",
   "execution_count": 9,
   "id": "distinguished-rugby",
   "metadata": {
    "ExecuteTime": {
     "end_time": "2021-09-14T01:25:59.013176Z",
     "start_time": "2021-09-14T01:25:59.006253Z"
    }
   },
   "outputs": [
    {
     "data": {
      "text/plain": [
       "'AliceBob'"
      ]
     },
     "execution_count": 9,
     "metadata": {},
     "output_type": "execute_result"
    }
   ],
   "source": [
    "'Alice'+'Bob'"
   ]
  },
  {
   "cell_type": "code",
   "execution_count": 10,
   "id": "first-heath",
   "metadata": {
    "ExecuteTime": {
     "end_time": "2021-09-14T01:26:07.383483Z",
     "start_time": "2021-09-14T01:26:07.357382Z"
    }
   },
   "outputs": [
    {
     "data": {
      "text/plain": [
       "'AliceAliceAlice'"
      ]
     },
     "execution_count": 10,
     "metadata": {},
     "output_type": "execute_result"
    }
   ],
   "source": [
    "'Alice'*3"
   ]
  },
  {
   "cell_type": "code",
   "execution_count": 11,
   "id": "unnecessary-martin",
   "metadata": {
    "ExecuteTime": {
     "end_time": "2021-09-14T01:26:46.913317Z",
     "start_time": "2021-09-14T01:26:46.905088Z"
    }
   },
   "outputs": [
    {
     "data": {
      "text/plain": [
       "'Hello!!!!!!!!!!'"
      ]
     },
     "execution_count": 11,
     "metadata": {},
     "output_type": "execute_result"
    }
   ],
   "source": [
    "'Hello'+'!'*10"
   ]
  },
  {
   "cell_type": "code",
   "execution_count": 12,
   "id": "disturbed-arkansas",
   "metadata": {
    "ExecuteTime": {
     "end_time": "2021-09-14T01:27:10.546285Z",
     "start_time": "2021-09-14T01:27:10.539389Z"
    }
   },
   "outputs": [],
   "source": [
    "spam=42"
   ]
  },
  {
   "cell_type": "code",
   "execution_count": 13,
   "id": "accessible-scanning",
   "metadata": {
    "ExecuteTime": {
     "end_time": "2021-09-14T01:27:37.280439Z",
     "start_time": "2021-09-14T01:27:37.269583Z"
    }
   },
   "outputs": [
    {
     "data": {
      "text/plain": [
       "42"
      ]
     },
     "execution_count": 13,
     "metadata": {},
     "output_type": "execute_result"
    }
   ],
   "source": [
    "spam"
   ]
  },
  {
   "cell_type": "code",
   "execution_count": 14,
   "id": "finite-musician",
   "metadata": {
    "ExecuteTime": {
     "end_time": "2021-09-14T01:27:45.622844Z",
     "start_time": "2021-09-14T01:27:45.618018Z"
    }
   },
   "outputs": [],
   "source": [
    "spam='hello'"
   ]
  },
  {
   "cell_type": "code",
   "execution_count": 15,
   "id": "applied-transcript",
   "metadata": {
    "ExecuteTime": {
     "end_time": "2021-09-14T01:27:53.881686Z",
     "start_time": "2021-09-14T01:27:53.871316Z"
    }
   },
   "outputs": [
    {
     "data": {
      "text/plain": [
       "'hello world'"
      ]
     },
     "execution_count": 15,
     "metadata": {},
     "output_type": "execute_result"
    }
   ],
   "source": [
    "spam+' world'"
   ]
  },
  {
   "cell_type": "code",
   "execution_count": 16,
   "id": "empirical-momentum",
   "metadata": {
    "ExecuteTime": {
     "end_time": "2021-09-14T01:28:06.326655Z",
     "start_time": "2021-09-14T01:28:06.321045Z"
    }
   },
   "outputs": [],
   "source": [
    "spam='goodbye'"
   ]
  },
  {
   "cell_type": "code",
   "execution_count": 17,
   "id": "established-surge",
   "metadata": {
    "ExecuteTime": {
     "end_time": "2021-09-14T01:28:11.032627Z",
     "start_time": "2021-09-14T01:28:11.021108Z"
    }
   },
   "outputs": [
    {
     "data": {
      "text/plain": [
       "'goodbye'"
      ]
     },
     "execution_count": 17,
     "metadata": {},
     "output_type": "execute_result"
    }
   ],
   "source": [
    "spam"
   ]
  },
  {
   "cell_type": "code",
   "execution_count": 20,
   "id": "latest-concentration",
   "metadata": {
    "ExecuteTime": {
     "end_time": "2021-09-14T01:28:41.462242Z",
     "start_time": "2021-09-14T01:28:41.454426Z"
    }
   },
   "outputs": [
    {
     "data": {
      "text/plain": [
       "4"
      ]
     },
     "execution_count": 20,
     "metadata": {},
     "output_type": "execute_result"
    }
   ],
   "source": [
    "spam = 2+2\n",
    "spam"
   ]
  },
  {
   "cell_type": "code",
   "execution_count": null,
   "id": "weekly-cookbook",
   "metadata": {},
   "outputs": [],
   "source": []
  }
 ],
 "metadata": {
  "kernelspec": {
   "display_name": "learn-env",
   "language": "python",
   "name": "learn-env"
  },
  "language_info": {
   "codemirror_mode": {
    "name": "ipython",
    "version": 3
   },
   "file_extension": ".py",
   "mimetype": "text/x-python",
   "name": "python",
   "nbconvert_exporter": "python",
   "pygments_lexer": "ipython3",
   "version": "3.6.13"
  },
  "toc": {
   "base_numbering": 1,
   "nav_menu": {},
   "number_sections": true,
   "sideBar": true,
   "skip_h1_title": false,
   "title_cell": "Table of Contents",
   "title_sidebar": "Contents",
   "toc_cell": false,
   "toc_position": {},
   "toc_section_display": true,
   "toc_window_display": false
  }
 },
 "nbformat": 4,
 "nbformat_minor": 5
}
